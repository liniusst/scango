{
 "cells": [
  {
   "cell_type": "code",
   "execution_count": 3,
   "metadata": {},
   "outputs": [],
   "source": [
    "from ultralytics import YOLO\n",
    "import os\n",
    "import cv2\n",
    "import easyocr\n",
    "import re\n",
    "import numpy as np"
   ]
  },
  {
   "cell_type": "code",
   "execution_count": 4,
   "metadata": {},
   "outputs": [],
   "source": [
    "model_path = os.path.join(\".\", \"runs\", \"detect\", \"train3\", \"weights\", \"best.pt\")\n",
    "model = YOLO(model_path)"
   ]
  },
  {
   "cell_type": "code",
   "execution_count": 1,
   "metadata": {},
   "outputs": [],
   "source": [
    "class detect_license_plate:\n",
    "    def __init__(self, img_path) -> None:\n",
    "        self.img_path = img_path\n",
    "        self.result = None\n",
    "\n",
    "    def _read_image(self):\n",
    "        try:\n",
    "            cap = cv2.VideoCapture(self.img_path)\n",
    "            ret, image = cap.read()\n",
    "            cap.release()\n",
    "            if not ret:\n",
    "                print(\"Error reading image.\")\n",
    "                return None\n",
    "            return image\n",
    "        except Exception as e:\n",
    "            print(f\"Error during image reading: {e}\")\n",
    "            return None\n",
    "\n",
    "    def _img_to_tresh(self):\n",
    "        image = self._read_image()\n",
    "        if image is None:\n",
    "            self.img_tresh = []\n",
    "            return\n",
    "\n",
    "        try:\n",
    "            detections = model(image)[0]\n",
    "            self.img_tresh = [\n",
    "                cv2.threshold(\n",
    "                    cv2.cvtColor(\n",
    "                        image[int(y1) : int(y2), int(x1) : int(x2)], cv2.COLOR_BGR2GRAY\n",
    "                    ),\n",
    "                    64,\n",
    "                    255,\n",
    "                    cv2.THRESH_BINARY_INV,\n",
    "                )[1]\n",
    "                for x1, y1, x2, y2, _, _ in detections.boxes.data.tolist()\n",
    "            ]\n",
    "        except Exception as e:\n",
    "            print(f\"Error during image processing: {e}\")\n",
    "            self.img_tresh = []\n",
    "\n",
    "    def img_cnts(self):\n",
    "        if not hasattr(self, \"img_tresh\") or not self.img_tresh:\n",
    "            return []\n",
    "\n",
    "        try:\n",
    "            reader = easyocr.Reader([\"en\"], gpu=False)\n",
    "            cnts, _ = cv2.findContours(\n",
    "                np.vstack(self.img_tresh).astype(np.uint8),\n",
    "                cv2.RETR_EXTERNAL,\n",
    "                cv2.CHAIN_APPROX_SIMPLE,\n",
    "            )\n",
    "            cnt = max(cnts, key=cv2.contourArea)\n",
    "            x, y, w, h = cv2.boundingRect(cnt)\n",
    "            output = reader.readtext(np.vstack(self.img_tresh), paragraph=False)\n",
    "        except Exception as e:\n",
    "            print(f\"Error during contour extraction or OCR: {e}\")\n",
    "            output = []\n",
    "\n",
    "        return output\n",
    "\n",
    "    def return_txt(self):\n",
    "        try:\n",
    "            self._img_to_tresh()\n",
    "            output = self.img_cnts()\n",
    "            license_plate_list = [\n",
    "                re.sub(r\"[^A-Z0-9]\", \"\", text)\n",
    "                for _, text, text_score in output\n",
    "                if text_score > 0.7\n",
    "            ]\n",
    "        except Exception as e:\n",
    "            print(f\"Error during text processing: {e}\")\n",
    "            license_plate_list = []\n",
    "\n",
    "        license_plate = \"\".join(license_plate_list)\n",
    "        self.result = {\"plate\": license_plate}\n",
    "        return self.result\n"
   ]
  },
  {
   "cell_type": "code",
   "execution_count": 7,
   "metadata": {},
   "outputs": [
    {
     "name": "stdout",
     "output_type": "stream",
     "text": [
      "Error during image reading: 'cv2.VideoCapture' object does not support the context manager protocol\n",
      "{'plate': ''}\n"
     ]
    }
   ],
   "source": [
    "try:\n",
    "    image_path = \"images/car6.jpeg\"\n",
    "    detection = detect_license_plate(image_path)\n",
    "    result = detection.return_txt()\n",
    "    print(result)\n",
    "except Exception as e:\n",
    "    print(f\"Error during license plate detection: {e}\")\n",
    "    # Handle the error or exit the program"
   ]
  }
 ],
 "metadata": {
  "kernelspec": {
   "display_name": ".venv",
   "language": "python",
   "name": "python3"
  },
  "language_info": {
   "codemirror_mode": {
    "name": "ipython",
    "version": 3
   },
   "file_extension": ".py",
   "mimetype": "text/x-python",
   "name": "python",
   "nbconvert_exporter": "python",
   "pygments_lexer": "ipython3",
   "version": "3.11.1"
  }
 },
 "nbformat": 4,
 "nbformat_minor": 2
}
